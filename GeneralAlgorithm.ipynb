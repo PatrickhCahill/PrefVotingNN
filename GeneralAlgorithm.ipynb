{
 "cells": [
  {
   "cell_type": "markdown",
   "metadata": {},
   "source": [
    "# An Algorithm For Predicting Australian Elections\n",
    "## Predicting National Values\n",
    "\n",
    "**A Side Note**: *Every model should be trained to calculate the swing from the previous election*\n",
    "### Fundamentals\n",
    "Regression analysis on fundamental data is used to predict the primary votes of each of following parties:\n",
    "1. Coalition\n",
    "2. ALP\n",
    "3. Greens\n",
    "4. ONP\n",
    "5. UAP\n",
    "6. Independents\n",
    "7. Others\n",
    "These fundamentals are calculated using regression analysis of economic and other data. Preliminary data will include:\n",
    "- Yearly Unemployment Data\n",
    "- Quarterly Unemployment Data\n",
    "- Monthly Unemployment Data\n",
    "- Yearly Inflation Rate\n",
    "- Quarterly Inflation Rate\n",
    "- Annual discretionary spending\n",
    "The regression analysis needs to be \"smart\" enough such that it can include the effects of the \"change in\" a fundamental. For example, that is to say that a government's vote share may be different if the unemployment rate is increasing/decreasing.\n",
    "\n",
    "Research needs to be done to determine how to perform the regression analysis as \"good\" economic data will likely benefit the government of the day.\n",
    "\n",
    "### Polling Data \n",
    "The fundamentals will then be \"fed\" into a Kalman filter, which is then updated over time as polls are released. The filter should be designed such that as when polls are not released the filter moves back towards the fundamentals, but the more frequent the polls the less the fundamentals are weighted.\n",
    "- This will be a Bayesian treatment of the polls, with consideration to the in house effect of each of the pollsters.\n",
    "- Reseach will need to be done to determine the most \"correct\" way to implement the Kalman filter in a Bayesian way.\n",
    "- Consider including prime-ministerial approval to this model as this represents an extra data point.\n",
    "- Fundamentals should be updated as new data emerges.\n",
    "\n",
    "## Testing seats\n",
    "National Economic data is then used to calculated the predicted swing in each seat:\n",
    "1. The seats are listed in a random order.\n",
    "2. The first seat in the list has it's primary vote shifted uniformly according to the National vote predictions.\n",
    "3. Every remaining seat has it's currently primary vote value shifted according to the correlation with the first seat. The results for all of the seats are stored.\n",
    "4. 2 and 3 are repeated many times and then averaged. This resulting list is then normalised according to the populations in each of the seats such that the sum of the predicted votes matches the national vote projection.\n",
    "Calculating 2CP and winner in each seat:\n",
    "TODO\n",
    "\n",
    "## Predicting Winner From Seat Data\n",
    "TODO: Possibly a logistic regression\n",
    "\n",
    "\n",
    "\n"
   ]
  },
  {
   "cell_type": "markdown",
   "metadata": {},
   "source": []
  }
 ],
 "metadata": {
  "kernelspec": {
   "display_name": "Python 3.9.1 64-bit",
   "language": "python",
   "name": "python3"
  },
  "language_info": {
   "name": "python",
   "version": "3.9.1"
  },
  "orig_nbformat": 4,
  "vscode": {
   "interpreter": {
    "hash": "f450c7eb4f838dc2b8e8e4724af9f52f1f78adb4aba90f54ac373406a2721386"
   }
  }
 },
 "nbformat": 4,
 "nbformat_minor": 2
}
